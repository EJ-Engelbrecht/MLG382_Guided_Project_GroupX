{
 "cells": [
  {
   "cell_type": "markdown",
   "metadata": {},
   "source": [
    "# Deep Learning"
   ]
  },
  {
   "cell_type": "code",
   "execution_count": null,
   "metadata": {},
   "outputs": [],
   "source": [
    "#Importing Required Libraries\n",
    "import sys\n",
    "import os\n",
    "\n",
    "# Import the python libraies from source\n",
    "#Allows for model to reload without reloading Kernel\n",
    "import importlib \n",
    "\n",
    "#Python files can be used \n",
    "sys.path.append(os.path.abspath(\"../src\"))\n",
    "\n",
    "#prepare_data.py file importing functions\n",
    "from prepare_data import (\n",
    "    load_data,\n",
    "    catagorical_column_transformations,\n",
    "    feature_engineering\n",
    "    \n",
    ")\n",
    "#preprocess_data.py file importing functions\n",
    "from preprocess_data import (\n",
    "    scale_and_encode,\n",
    "    remove_anomalies,\n",
    "    get_numeric_columns,\n",
    "    iterative_outlier_removal,\n",
    "    make_Onehot\n",
    ")\n",
    "#train_models.py file importing functions\n",
    "from train_models import (\n",
    "    split_features_target,\n",
    "    create_train_test_split,\n",
    "    get_model,\n",
    "    train_model\n",
    ")\n",
    "\n",
    "\n",
    "# Data preparation\n",
    "# load the data using the load_data function from prepare_data.py\n",
    "df = load_data('..\\data\\Student_performance_data.csv')\n",
    "# decode the catagorical features\n",
    "df = catagorical_column_transformations(df)\n",
    "# perform feature engineering using the feature_engineering function from prepare_data.py\n",
    "df = feature_engineering(df)\n",
    "# Preprocessing\n",
    "# scale and encode the data using the scale_and_encode function from preprocess_data.py\n",
    "df = scale_and_encode(df)\n",
    "#print(df.columns.to_list())\n",
    "# remove anomalies using the remove_anomalies function from preprocess_data.py\n",
    "#   df = remove_anomalies(df) ~ Removing the anaomalies might break the model\n",
    "\n",
    "# get the numeric columns using the get_numeric_columns function from preprocess_data.py\n",
    "numeric_columns = get_numeric_columns(df)\n",
    "# iterative outlier removal using the iterative_outlier_removal function from preprocess_data.py\n",
    "df = iterative_outlier_removal(df, numeric_columns)\n",
    "# make the data one-hot\n",
    "df = make_Onehot(df)\n",
    "# Model preparation\n",
    "X, y = split_features_target(df)\n",
    "# create an train test plit\n",
    "X_train, X_test, Y_train, Y_test = create_train_test_split(X, y)\n",
    "# reloading and training the deeplearning model\n",
    "model=get_model('deep_learning')\n",
    "# model training and evaliation\n",
    "train_model(model, 'deep_learning', X_train, X_test, Y_train, Y_test)"
   ]
  }
 ],
 "metadata": {
  "kernelspec": {
   "display_name": "MLG382_class",
   "language": "python",
   "name": "python3"
  },
  "language_info": {
   "codemirror_mode": {
    "name": "ipython",
    "version": 3
   },
   "file_extension": ".py",
   "mimetype": "text/x-python",
   "name": "python",
   "nbconvert_exporter": "python",
   "pygments_lexer": "ipython3",
   "version": "3.12.7"
  }
 },
 "nbformat": 4,
 "nbformat_minor": 2
}
