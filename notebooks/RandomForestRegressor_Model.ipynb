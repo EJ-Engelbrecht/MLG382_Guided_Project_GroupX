{
 "cells": [
  {
   "cell_type": "code",
   "execution_count": 1,
   "id": "0842485e",
   "metadata": {},
   "outputs": [
    {
     "name": "stdout",
     "output_type": "stream",
     "text": [
      "Random Forest:\n",
      "               precision    recall  f1-score   support\n",
      "\n",
      "         0.0       1.00      0.29      0.44        21\n",
      "         1.0       0.82      0.85      0.84        54\n",
      "         2.0       0.89      0.92      0.91        78\n",
      "         3.0       0.87      0.89      0.88        83\n",
      "         4.0       0.94      0.97      0.96       243\n",
      "\n",
      "    accuracy                           0.91       479\n",
      "   macro avg       0.90      0.78      0.80       479\n",
      "weighted avg       0.91      0.91      0.90       479\n",
      "\n",
      "Random Forest model saved to ../artifacts/RandomForestRegressor_model.pkl\n"
     ]
    }
   ],
   "source": [
    "#Importing required libraries\n",
    "import os\n",
    "import sys\n",
    "\n",
    "#Needed to launch the python file\n",
    "sys.path.append(os.path.abspath(\"../src\"))\n",
    "\n",
    "#Loading Python File\n",
    "from train_models import split_features_target, random_forest_model\n",
    "\n",
    "#Splits the dataset into training and test sets\n",
    "X_train, X_test, y_train, y_test = split_features_target('../artifacts/remodeled_data.csv')\n",
    "\n",
    "#Call the function deep_learning_model from train_models\n",
    "random_forest_model(X_train, y_train, X_test, y_test)\n",
    "\n",
    "\n"
   ]
  }
 ],
 "metadata": {
  "kernelspec": {
   "display_name": "base",
   "language": "python",
   "name": "python3"
  },
  "language_info": {
   "codemirror_mode": {
    "name": "ipython",
    "version": 3
   },
   "file_extension": ".py",
   "mimetype": "text/x-python",
   "name": "python",
   "nbconvert_exporter": "python",
   "pygments_lexer": "ipython3",
   "version": "3.12.7"
  }
 },
 "nbformat": 4,
 "nbformat_minor": 5
}
