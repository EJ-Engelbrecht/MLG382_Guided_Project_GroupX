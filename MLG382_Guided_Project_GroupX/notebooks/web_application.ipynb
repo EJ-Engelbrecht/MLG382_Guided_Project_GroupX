{
 "cells": [
  {
   "cell_type": "code",
   "execution_count": null,
   "id": "523e017e",
   "metadata": {},
   "outputs": [
    {
     "ename": "FileNotFoundError",
     "evalue": "[Errno 2] No such file or directory: 'xgboost_model.pkl'",
     "output_type": "error",
     "traceback": [
      "\u001b[31m---------------------------------------------------------------------------\u001b[39m",
      "\u001b[31mFileNotFoundError\u001b[39m                         Traceback (most recent call last)",
      "\u001b[36mCell\u001b[39m\u001b[36m \u001b[39m\u001b[32mIn[1]\u001b[39m\u001b[32m, line 10\u001b[39m\n\u001b[32m      7\u001b[39m \u001b[38;5;28;01mimport\u001b[39;00m\u001b[38;5;250m \u001b[39m\u001b[34;01mpickle\u001b[39;00m\n\u001b[32m      9\u001b[39m \u001b[38;5;66;03m# Load model and scaler\u001b[39;00m\n\u001b[32m---> \u001b[39m\u001b[32m10\u001b[39m model = pickle.load(\u001b[38;5;28;43mopen\u001b[39;49m\u001b[43m(\u001b[49m\u001b[33;43m\"\u001b[39;49m\u001b[33;43mxgboost_model.pkl\u001b[39;49m\u001b[33;43m\"\u001b[39;49m\u001b[43m,\u001b[49m\u001b[43m \u001b[49m\u001b[33;43m\"\u001b[39;49m\u001b[33;43mrb\u001b[39;49m\u001b[33;43m\"\u001b[39;49m\u001b[43m)\u001b[49m)\n\u001b[32m     11\u001b[39m scaler = pickle.load(\u001b[38;5;28mopen\u001b[39m(\u001b[33m\"\u001b[39m\u001b[33mscaler.pkl\u001b[39m\u001b[33m\"\u001b[39m, \u001b[33m\"\u001b[39m\u001b[33mrb\u001b[39m\u001b[33m\"\u001b[39m))\n\u001b[32m     13\u001b[39m \u001b[38;5;66;03m# Dash App Setup\u001b[39;00m\n",
      "\u001b[36mFile \u001b[39m\u001b[32m~\\AppData\\Local\\Packages\\PythonSoftwareFoundation.Python.3.11_qbz5n2kfra8p0\\LocalCache\\local-packages\\Python311\\site-packages\\IPython\\core\\interactiveshell.py:326\u001b[39m, in \u001b[36m_modified_open\u001b[39m\u001b[34m(file, *args, **kwargs)\u001b[39m\n\u001b[32m    319\u001b[39m \u001b[38;5;28;01mif\u001b[39;00m file \u001b[38;5;129;01min\u001b[39;00m {\u001b[32m0\u001b[39m, \u001b[32m1\u001b[39m, \u001b[32m2\u001b[39m}:\n\u001b[32m    320\u001b[39m     \u001b[38;5;28;01mraise\u001b[39;00m \u001b[38;5;167;01mValueError\u001b[39;00m(\n\u001b[32m    321\u001b[39m         \u001b[33mf\u001b[39m\u001b[33m\"\u001b[39m\u001b[33mIPython won\u001b[39m\u001b[33m'\u001b[39m\u001b[33mt let you open fd=\u001b[39m\u001b[38;5;132;01m{\u001b[39;00mfile\u001b[38;5;132;01m}\u001b[39;00m\u001b[33m by default \u001b[39m\u001b[33m\"\u001b[39m\n\u001b[32m    322\u001b[39m         \u001b[33m\"\u001b[39m\u001b[33mas it is likely to crash IPython. If you know what you are doing, \u001b[39m\u001b[33m\"\u001b[39m\n\u001b[32m    323\u001b[39m         \u001b[33m\"\u001b[39m\u001b[33myou can use builtins\u001b[39m\u001b[33m'\u001b[39m\u001b[33m open.\u001b[39m\u001b[33m\"\u001b[39m\n\u001b[32m    324\u001b[39m     )\n\u001b[32m--> \u001b[39m\u001b[32m326\u001b[39m \u001b[38;5;28;01mreturn\u001b[39;00m \u001b[43mio_open\u001b[49m\u001b[43m(\u001b[49m\u001b[43mfile\u001b[49m\u001b[43m,\u001b[49m\u001b[43m \u001b[49m\u001b[43m*\u001b[49m\u001b[43margs\u001b[49m\u001b[43m,\u001b[49m\u001b[43m \u001b[49m\u001b[43m*\u001b[49m\u001b[43m*\u001b[49m\u001b[43mkwargs\u001b[49m\u001b[43m)\u001b[49m\n",
      "\u001b[31mFileNotFoundError\u001b[39m: [Errno 2] No such file or directory: 'xgboost_model.pkl'"
     ]
    }
   ],
   "source": [
    "import dash\n",
    "from dash import dcc, html\n",
    "from dash.dependencies import Input, Output, State\n",
    "import numpy as np\n",
    "import pickle\n",
    "\n",
    "# Load model and scaler\n",
    "model = pickle.load(open(\"xgboost_model.pkl\", \"rb\"))\n",
    "scaler = pickle.load(open(\"scaler.pkl\", \"rb\"))\n",
    "\n",
    "# Initialize Dash app\n",
    "app = dash.Dash(__name__)\n",
    "server = app.server\n",
    "\n",
    "grade_labels = ['A', 'B', 'C', 'D', 'F']\n",
    "\n",
    "app.layout = html.Div([\n",
    "    html.H1(\"🎓 BrightPath Student Grade Predictor\", style={\"textAlign\": \"center\"}),\n",
    "\n",
    "    html.Div([\n",
    "        html.Label(\"Age\"), dcc.Input(id=\"age\", type=\"number\", min=15, max=18),\n",
    "        html.Label(\"Gender (0 = Male, 1 = Female)\"), dcc.Input(id=\"gender\", type=\"number\", min=0, max=1),\n",
    "        html.Label(\"Ethnicity (0=Caucasian, 1=African American, 2=Asian, 3=Other)\"), dcc.Input(id=\"ethnicity\", type=\"number\", min=0, max=3),\n",
    "        html.Label(\"Parental Education (0–4)\"), dcc.Input(id=\"pedu\", type=\"number\", min=0, max=4),\n",
    "        html.Label(\"Weekly Study Time\"), dcc.Input(id=\"study\", type=\"number\", min=0, max=20),\n",
    "        html.Label(\"Absences\"), dcc.Input(id=\"absences\", type=\"number\", min=0, max=30),\n",
    "        html.Label(\"Tutoring (0 = No, 1 = Yes)\"), dcc.Input(id=\"tutoring\", type=\"number\", min=0, max=1),\n",
    "        html.Label(\"Parental Support (0–4)\"), dcc.Input(id=\"psupport\", type=\"number\", min=0, max=4),\n",
    "        html.Label(\"Extracurricular (0 = No, 1 = Yes)\"), dcc.Input(id=\"extra\", type=\"number\", min=0, max=1),\n",
    "        html.Label(\"Sports (0 = No, 1 = Yes)\"), dcc.Input(id=\"sports\", type=\"number\", min=0, max=1),\n",
    "        html.Label(\"Music (0 = No, 1 = Yes)\"), dcc.Input(id=\"music\", type=\"number\", min=0, max=1),\n",
    "        html.Label(\"Volunteering (0 = No, 1 = Yes)\"), dcc.Input(id=\"vol\", type=\"number\", min=0, max=1),\n",
    "        html.Br(),\n",
    "        html.Button(\"Predict Grade\", id=\"submit\", n_clicks=0)\n",
    "    ], style={\"columnCount\": 2, \"margin\": \"20px\"}),\n",
    "\n",
    "    html.Div(id=\"output\", style={\"textAlign\": \"center\", \"fontSize\": \"20px\", \"marginTop\": \"20px\"})\n",
    "])\n",
    "\n",
    "@app.callback(\n",
    "    Output(\"output\", \"children\"),\n",
    "    Input(\"submit\", \"n_clicks\"),\n",
    "    State(\"age\", \"value\"), State(\"gender\", \"value\"), State(\"ethnicity\", \"value\"),\n",
    "    State(\"pedu\", \"value\"), State(\"study\", \"value\"), State(\"absences\", \"value\"),\n",
    "    State(\"tutoring\", \"value\"), State(\"psupport\", \"value\"),\n",
    "    State(\"extra\", \"value\"), State(\"sports\", \"value\"),\n",
    "    State(\"music\", \"value\"), State(\"vol\", \"value\")\n",
    ")\n",
    "def predict(n_clicks, age, gender, ethnicity, pedu, study, absences, tutoring,\n",
    "            psupport, extra, sports, music, vol):\n",
    "\n",
    "    if None in [age, gender, ethnicity, pedu, study, absences, tutoring,\n",
    "                psupport, extra, sports, music, vol]:\n",
    "        return \"⚠️ Please fill in all fields.\"\n",
    "\n",
    "    input_data = np.array([[age, gender, ethnicity, pedu, study, absences,\n",
    "                            tutoring, psupport, extra, sports, music, vol]])\n",
    "    input_scaled = scaler.transform(input_data)\n",
    "    pred = model.predict(input_scaled)[0]\n",
    "    prob = model.predict_proba(input_scaled)[0][pred]\n",
    "\n",
    "    return f\"🎯 Predicted Grade: {grade_labels[pred]} with Confidence: {prob:.2%}\"\n",
    "\n",
    "if __name__ == '__main__':\n",
    "    app.run_server(debug=True)\n"
   ]
  }
 ],
 "metadata": {
  "kernelspec": {
   "display_name": "Python 3",
   "language": "python",
   "name": "python3"
  },
  "language_info": {
   "codemirror_mode": {
    "name": "ipython",
    "version": 3
   },
   "file_extension": ".py",
   "mimetype": "text/x-python",
   "name": "python",
   "nbconvert_exporter": "python",
   "pygments_lexer": "ipython3",
   "version": "3.11.9"
  }
 },
 "nbformat": 4,
 "nbformat_minor": 5
}
