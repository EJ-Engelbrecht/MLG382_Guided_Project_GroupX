{
 "cells": [
  {
   "cell_type": "markdown",
   "metadata": {},
   "source": []
  },
  {
   "cell_type": "code",
   "execution_count": null,
   "metadata": {},
   "outputs": [],
   "source": [
    "import numpy as np\n",
    "\n",
    "np.random.seed(1337)  # for reproducibility\n",
    "from sklearn.datasets import load_boston\n",
    "from sklearn.model_selection import train_test_split\n",
    "from sklearn.metrics.regression import r2_score, mean_squared_error\n",
    "from sklearn.preprocessing import MinMaxScaler\n",
    "\n",
    "from dbn.tensorflow import SupervisedDBNRegression\n",
    "\n",
    "\n",
    "# Loading dataset\n",
    "boston = load_boston()\n",
    "X, Y = boston.data, boston.target\n",
    "\n",
    "# Splitting data\n",
    "X_train, X_test, Y_train, Y_test = train_test_split(X, Y, test_size=0.2, random_state=1337)\n",
    "\n",
    "# Data scaling\n",
    "min_max_scaler = MinMaxScaler()\n",
    "X_train = min_max_scaler.fit_transform(X_train)\n",
    "\n",
    "# Training\n",
    "regressor = SupervisedDBNRegression(hidden_layers_structure=[100],\n",
    "                                    learning_rate_rbm=0.01,\n",
    "                                    learning_rate=0.01,\n",
    "                                    n_epochs_rbm=20,\n",
    "                                    n_iter_backprop=200,\n",
    "                                    batch_size=16,\n",
    "                                    activation_function='relu')\n",
    "regressor.fit(X_train, Y_train)\n",
    "\n",
    "# Test\n",
    "X_test = min_max_scaler.transform(X_test)\n",
    "Y_pred = regressor.predict(X_test)\n",
    "print('Done.\\nR-squared: %f\\nMSE: %f' % (r2_score(Y_test, Y_pred), mean_squared_error(Y_test, Y_pred)))"
   ]
  }
 ],
 "metadata": {
  "kernelspec": {
   "display_name": "Python 3",
   "language": "python",
   "name": "python3"
  },
  "language_info": {
   "name": "python",
   "version": "3.11.9"
  }
 },
 "nbformat": 4,
 "nbformat_minor": 2
}
